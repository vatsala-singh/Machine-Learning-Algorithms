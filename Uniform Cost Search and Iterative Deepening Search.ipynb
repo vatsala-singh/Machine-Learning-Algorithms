{
 "cells": [
  {
   "cell_type": "code",
   "execution_count": 1,
   "metadata": {},
   "outputs": [],
   "source": [
    "from queue import PriorityQueue"
   ]
  },
  {
   "cell_type": "code",
   "execution_count": 2,
   "metadata": {},
   "outputs": [],
   "source": [
    "moves = [(-1, 0), (1, 0), (0, -1), (0, 1)]"
   ]
  },
  {
   "cell_type": "code",
   "execution_count": 11,
   "metadata": {},
   "outputs": [],
   "source": [
    "goal_state = [[1, 2, 3], [4, 5, 6], [7, 8, 0]]"
   ]
  },
  {
   "cell_type": "code",
   "execution_count": 3,
   "metadata": {},
   "outputs": [],
   "source": [
    "# Function to find the blank space (0) in the current state\n",
    "def find_blank(state):\n",
    "    for i in range(3):\n",
    "        for j in range(3):\n",
    "            if state[i][j] == 0:\n",
    "                return i, j"
   ]
  },
  {
   "cell_type": "code",
   "execution_count": 4,
   "metadata": {},
   "outputs": [],
   "source": [
    "# Function to check if a state is valid\n",
    "def is_valid(x, y):\n",
    "    return 0 <= x < 3 and 0 <= y < 3\n"
   ]
  },
  {
   "cell_type": "code",
   "execution_count": 5,
   "metadata": {},
   "outputs": [],
   "source": [
    "# Function to calculate the cost to move from the current state to the next state\n",
    "def get_cost(current_state, next_state):\n",
    "    cost = 0\n",
    "    for i in range(3):\n",
    "        for j in range(3):\n",
    "            if current_state[i][j] != next_state[i][j]:\n",
    "                cost += 1\n",
    "    return cost"
   ]
  },
  {
   "cell_type": "markdown",
   "metadata": {},
   "source": [
    "## Uniform Cost Search"
   ]
  },
  {
   "cell_type": "code",
   "execution_count": 9,
   "metadata": {},
   "outputs": [],
   "source": [
    "# Define the Uniform Cost Search function\n",
    "def uniform_cost_search(start_state):\n",
    "    visited = set()\n",
    "    queue = PriorityQueue()\n",
    "    queue.put((0, start_state, []))\n",
    "\n",
    "    while not queue.empty():\n",
    "        cost, current_state, path = queue.get()\n",
    "        if current_state == goal_state:\n",
    "            return path\n",
    "        \n",
    "        if tuple(map(tuple, current_state)) in visited:\n",
    "            continue\n",
    "\n",
    "        visited.add(tuple(map(tuple, current_state)))\n",
    "        x,y = find_blank(current_state)\n",
    "        print(\"blank position\")\n",
    "\n",
    "        for move in moves:\n",
    "            new_x, new_y = x + move[0], y + move[1]\n",
    "\n",
    "            if is_valid(new_x, new_y):\n",
    "                new_state = [row[:] for row in current_state]\n",
    "                new_state[x][y], new_state[new_x][new_y] = new_state[new_x][new_y], new_state[x][y]\n",
    "                new_cost = get_cost(current_state, new_state)\n",
    "                new_path = path + [(x, y, new_x, new_y)]\n",
    "                queue.put((cost + new_cost, new_state, new_path))"
   ]
  },
  {
   "cell_type": "code",
   "execution_count": 12,
   "metadata": {},
   "outputs": [
    {
     "name": "stdout",
     "output_type": "stream",
     "text": [
      "Solution found in 2 steps:\n",
      "Move the number at position (1, 1) to position (1, 2)\n",
      "Move the number at position (1, 2) to position (2, 2)\n"
     ]
    }
   ],
   "source": [
    "# Input the starting state\n",
    "start_state = [[1, 2, 3], [4, 0, 5], [7, 8, 6]]\n",
    "\n",
    "# Solve the puzzle using Uniform Cost Search\n",
    "result = uniform_cost_search(start_state)\n",
    "\n",
    "# Print the result\n",
    "if result:\n",
    "    print(\"Solution found in\", len(result), \"steps:\")\n",
    "    for step in result:\n",
    "        print(\"Move the number at position\", (step[0], step[1]), \"to position\", (step[2], step[3]))\n",
    "else:\n",
    "    print(\"No solution found.\")"
   ]
  },
  {
   "cell_type": "markdown",
   "metadata": {},
   "source": [
    "## Iterative Deepening Search"
   ]
  },
  {
   "cell_type": "code",
   "execution_count": 14,
   "metadata": {},
   "outputs": [],
   "source": [
    "def depth_limited_dfs(start_state, goal_state, depth_limit):\n",
    "    if start_state == goal_state:\n",
    "        return []\n",
    "\n",
    "    if depth_limit == 0:\n",
    "        return None\n",
    "\n",
    "    x, y = find_blank(start_state)\n",
    "\n",
    "    for move in moves:\n",
    "        new_x, new_y = x + move[0], y + move[1]\n",
    "\n",
    "        if is_valid(new_x, new_y):\n",
    "            new_state = [row[:] for row in start_state]\n",
    "            new_state[x][y], new_state[new_x][new_y] = new_state[new_x][new_y], new_state[x][y]\n",
    "            result = depth_limited_dfs(new_state, goal_state, depth_limit - 1)\n",
    "\n",
    "            if result is not None:\n",
    "                return [(x, y, new_x, new_y)] + result\n",
    "\n",
    "    return None"
   ]
  },
  {
   "cell_type": "code",
   "execution_count": 15,
   "metadata": {},
   "outputs": [],
   "source": [
    "def iterative_deepening_search(start_state, goal_state):\n",
    "    depth_limit = 0\n",
    "    while True:\n",
    "        result = depth_limited_dfs(start_state, goal_state, depth_limit)\n",
    "        if result is not None:\n",
    "            return result\n",
    "        depth_limit += 1"
   ]
  },
  {
   "cell_type": "code",
   "execution_count": 16,
   "metadata": {},
   "outputs": [
    {
     "name": "stdout",
     "output_type": "stream",
     "text": [
      "Solution found in 2 steps:\n",
      "Move the number at position (1, 1) to position (1, 2)\n",
      "Move the number at position (1, 2) to position (2, 2)\n"
     ]
    }
   ],
   "source": [
    "start_state = [[1, 2, 3], [4, 0, 5], [7, 8, 6]]\n",
    "result = iterative_deepening_search(start_state, goal_state)\n",
    "\n",
    "# Print the result\n",
    "if result:\n",
    "    print(\"Solution found in\", len(result), \"steps:\")\n",
    "    for step in result:\n",
    "        print(\"Move the number at position\", (step[0], step[1]), \"to position\", (step[2], step[3]))\n",
    "else:\n",
    "    print(\"No solution found.\")"
   ]
  },
  {
   "cell_type": "code",
   "execution_count": null,
   "metadata": {},
   "outputs": [],
   "source": []
  }
 ],
 "metadata": {
  "kernelspec": {
   "display_name": "Python 3",
   "language": "python",
   "name": "python3"
  },
  "language_info": {
   "codemirror_mode": {
    "name": "ipython",
    "version": 3
   },
   "file_extension": ".py",
   "mimetype": "text/x-python",
   "name": "python",
   "nbconvert_exporter": "python",
   "pygments_lexer": "ipython3",
   "version": "3.8.5"
  }
 },
 "nbformat": 4,
 "nbformat_minor": 4
}
